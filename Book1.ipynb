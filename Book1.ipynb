{
 "cells": [
  {
   "cell_type": "code",
   "execution_count": 12,
   "metadata": {},
   "outputs": [
    {
     "name": "stderr",
     "output_type": "stream",
     "text": [
      "Exception in Tkinter callback\n",
      "Traceback (most recent call last):\n",
      "  File \"D:\\Miniconda3\\lib\\tkinter\\__init__.py\", line 1699, in __call__\n",
      "    return self.func(*args)\n",
      "  File \"<ipython-input-7-b29ca767f2c7>\", line 11, in spwd\n",
      "    slb.config(text = \"您选择的目录是：\"+spath)\n",
      "AttributeError: 'NoneType' object has no attribute 'config'\n"
     ]
    }
   ],
   "source": [
    "from tkinter import *\n",
    "from tkinter import ttk\n",
    "import tkinter.filedialog\n",
    "\n",
    "root = Tk()\n",
    "root.title(\"照片整理工具 V0.9\")\n",
    "root.geometry(\"400x300\")\n",
    "\n",
    "frame = ttk.Frame(root, padding=10, relief=\"solid\", borderwidth=2)\n",
    "frame.grid(padx=10, pady=10)\n",
    "'''\n",
    "def spwd():\n",
    "    spath = tkinter.filedialog.askdirectory()\n",
    "    if spath != '':\n",
    "        slb.[\"text\"] = \"您选择的目录是：\"+spath\n",
    "    else:\n",
    "        slb.config(text = \"您没有选择任何\")\n",
    "'''\n",
    "'''\n",
    "def dpwd():\n",
    "    dpath = tkinter.filedialog.askdirectory()\n",
    "    if dpath != '':\n",
    "        dlb.config(text = \"您选择的目标目录是：\"+dpath)\n",
    "    else:\n",
    "        dlb.config(text = \"您没有选择任何\")\n",
    "'''\n",
    "        \n",
    "slb = ttk.Label(frame,text = '源目录').pack()\n",
    "#dlb = Label(root,text = '目标目录').pack()\n",
    "\n",
    "sbtn = Button(frame,text=\"选择照片所在目录\",command=spwd).pack()\n",
    "\n",
    "#dbtn = Button(root,text=\"选择照片所在目录\",command=dpwd).pack()\n",
    "\n",
    "root.mainloop()"
   ]
  },
  {
   "cell_type": "code",
   "execution_count": null,
   "metadata": {
    "collapsed": true
   },
   "outputs": [],
   "source": [
    "# 处理照片Exif信息\n",
    "\n",
    "import exifread\n",
    "import os\n",
    "import sys\n",
    "import shutil\n",
    "\n",
    "# 读取EXIF信息\n",
    "def getPhotoExif(filename):\n",
    "    fd = open(filename,'rb')\n",
    "    tags = exifread.process_file(fd)\n",
    "    fd.close()\n",
    "    return(tags)\n",
    "\n",
    "def movePhoto(path,dst):\n",
    "    n = 1\n",
    "    m = 0\n",
    "    for root, dirs, files in os.walk(path):\n",
    "        for filename in files:\n",
    "            filename = os.path.join(root,filename)\n",
    "            f,ext = os.path.splitext(filename)\n",
    "            if ext.lower() not in ('.jpg','.png','.mp4','.gif'):\n",
    "                continue\n",
    "            tags = getPhotoExif(filename)\n",
    "            #print(\"----------------------------------------------------------------\")            \n",
    "            try:\n",
    "                date = str(tags['EXIF DateTimeOriginal']).replace(\":\",\"-\")[:10]\n",
    "                #print(n,\"文件:\",filename,\"相机:\",tags['Image Model'],\"，拍摄时间：\",date)\n",
    "                pwd = root + \"\\\\\" + date\n",
    "                year = date[0:4]\n",
    "                yearpath = dst+\"\\\\\"+year\n",
    "\n",
    "                if not os.path.exists(yearpath):\n",
    "                    os.mkdir(yearpath)\n",
    "                daypath = yearpath+\"\\\\\"+date\n",
    "\n",
    "                if not os.path.exists(daypath):\n",
    "                    os.mkdir(daypath)\n",
    "                shutil.move(filename,daypath)\n",
    "                print(n,filename+\"  ----->  \"+daypath)\n",
    "                n = n + 1\n",
    "            except:\n",
    "                print(\"照片\",filename,\"没有EXIF数据\")\n",
    "                m = m + 1\n",
    "                pass\n",
    "    \n",
    "    print(\"共移动\" ,n-1,\"文件，\",m,\"个文件未移动\")\n",
    "\n",
    "def main():\n",
    "    \n",
    "    msg = \"\"\"使用方法：\n",
    "        python movePhoto.py 源文件夹 目标文件夹\n",
    "        \"\"\"\n",
    "    \n",
    "    if len(sys.argv) < 3:\n",
    "        print(msg)\n",
    "    else:\n",
    "        movePhoto(sys.argv[1],sys.argv[2])\n",
    "    \n",
    "if __name__ == '__main__':\n",
    "    \n",
    "    main()"
   ]
  },
  {
   "cell_type": "code",
   "execution_count": 9,
   "metadata": {},
   "outputs": [
    {
     "name": "stdout",
     "output_type": "stream",
     "text": [
      "卷 Data 的文件夹 PATH 列表\n",
      "卷序列号为 B85F-6072\n",
      "D:\\坚果云\\PYTHON\\T\n",
      "├─2012\n",
      "│  ├─2012-09-07\n",
      "│  └─2012-10-25\n",
      "├─2013\n",
      "│  ├─2013-05-15\n",
      "│  ├─2013-05-22\n",
      "│  └─2013-05-24\n",
      "├─2014\n",
      "│  ├─2014-01-03\n",
      "│  └─2014-07-20\n",
      "└─2016\n",
      "    └─2016-05-31\n"
     ]
    }
   ],
   "source": [
    "!tree T"
   ]
  }
 ],
 "metadata": {
  "celltoolbar": "Raw Cell Format",
  "kernelspec": {
   "display_name": "Python 3",
   "language": "python",
   "name": "python3"
  },
  "language_info": {
   "codemirror_mode": {
    "name": "ipython",
    "version": 3
   },
   "file_extension": ".py",
   "mimetype": "text/x-python",
   "name": "python",
   "nbconvert_exporter": "python",
   "pygments_lexer": "ipython3",
   "version": "3.6.0"
  }
 },
 "nbformat": 4,
 "nbformat_minor": 2
}
