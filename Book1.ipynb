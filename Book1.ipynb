{
 "cells": [
  {
   "cell_type": "code",
   "execution_count": 63,
   "metadata": {},
   "outputs": [
    {
     "name": "stdout",
     "output_type": "stream",
     "text": [
      "Key: Image Make, value: HUAWEI\n",
      "Key: EXIF DateTimeOriginal, value: 2017:11:14 07:22:39\n"
     ]
    }
   ],
   "source": [
    "# 处理照片Exif信息\n",
    "import exifread\n",
    "import os\n",
    "\n",
    "def getExif(filename):\n",
    "    fd = open(filename,'rb')\n",
    "    tags = exifread.process_file(fd)\n",
    "    fd.close()\n",
    "    return(tags)\n",
    "\n",
    "filename = \"test.jpg\"\n",
    "tags=getExif(filename)\n",
    "\n",
    "for tag in tags.keys():\n",
    "    if tag in ('EXIF DateTimeOriginal', 'Image Make'):\n",
    "        print(\"Key: %s, value: %s\" % (tag, tags[tag]))"
   ]
  },
  {
   "cell_type": "code",
   "execution_count": 1,
   "metadata": {},
   "outputs": [
    {
     "name": "stdout",
     "output_type": "stream",
     "text": [
      "desktop.ini\n",
      "Miniconda3\n",
      "Tools\n",
      "坚果云\n"
     ]
    }
   ],
   "source": [
    "import os\n",
    "\n",
    "dir=os.listdir(\"C:\\\\Mydata\")\n",
    "for d in dir:\n",
    "    print(d)"
   ]
  },
  {
   "cell_type": "code",
   "execution_count": null,
   "metadata": {},
   "outputs": [],
   "source": []
  }
 ],
 "metadata": {
  "celltoolbar": "Raw Cell Format",
  "kernelspec": {
   "display_name": "Python 3",
   "language": "python",
   "name": "python3"
  },
  "language_info": {
   "codemirror_mode": {
    "name": "ipython",
    "version": 3
   },
   "file_extension": ".py",
   "mimetype": "text/x-python",
   "name": "python",
   "nbconvert_exporter": "python",
   "pygments_lexer": "ipython3",
   "version": "3.6.1"
  }
 },
 "nbformat": 4,
 "nbformat_minor": 2
}
