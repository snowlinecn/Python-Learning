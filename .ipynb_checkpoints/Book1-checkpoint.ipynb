{
 "cells": [
  {
   "cell_type": "code",
   "execution_count": null,
   "metadata": {
    "collapsed": true
   },
   "outputs": [],
   "source": [
    "# 处理照片Exif信息\n",
    "\n",
    "import exifread\n",
    "import os\n",
    "import sys\n",
    "import shutil\n",
    "\n",
    "# 读取EXIF信息\n",
    "def getPhotoExif(filename):\n",
    "    fd = open(filename,'rb')\n",
    "    tags = exifread.process_file(fd)\n",
    "    fd.close()\n",
    "    return(tags)\n",
    "\n",
    "def movePhoto(path,dst):\n",
    "    n = 1\n",
    "    m = 0\n",
    "    for root, dirs, files in os.walk(path):\n",
    "        for filename in files:\n",
    "            filename = os.path.join(root,filename)\n",
    "            f,ext = os.path.splitext(filename)\n",
    "            if ext.lower() not in ('.jpg','.png','.mp4','.gif'):\n",
    "                continue\n",
    "            tags = getPhotoExif(filename)\n",
    "            #print(\"----------------------------------------------------------------\")            \n",
    "            try:\n",
    "                date = str(tags['EXIF DateTimeOriginal']).replace(\":\",\"-\")[:10]\n",
    "                #print(n,\"文件:\",filename,\"相机:\",tags['Image Model'],\"，拍摄时间：\",date)\n",
    "                pwd = root + \"\\\\\" + date\n",
    "                year = date[0:4]\n",
    "                yearpath = dst+\"\\\\\"+year\n",
    "\n",
    "                if not os.path.exists(yearpath):\n",
    "                    os.mkdir(yearpath)\n",
    "                daypath = yearpath+\"\\\\\"+date\n",
    "\n",
    "                if not os.path.exists(daypath):\n",
    "                    os.mkdir(daypath)\n",
    "                shutil.move(filename,daypath)\n",
    "                print(n,filename+\"  ----->  \"+daypath)\n",
    "                n = n + 1\n",
    "            except:\n",
    "                print(\"照片\",filename,\"没有EXIF数据\")\n",
    "                m = m + 1\n",
    "                pass\n",
    "    \n",
    "    print(\"共移动\" ,n-1,\"文件，\",m,\"个文件未移动\")\n",
    "\n",
    "def main():\n",
    "    \n",
    "    msg = \"\"\"使用方法：\n",
    "        python movePhoto.py 源文件夹 目标文件夹\n",
    "        \"\"\"\n",
    "    \n",
    "    if len(sys.argv) < 3:\n",
    "        print(msg)\n",
    "    else:\n",
    "        movePhoto(sys.argv[1],sys.argv[2])\n",
    "    \n",
    "if __name__ == '__main__':\n",
    "    \n",
    "    main()"
   ]
  },
  {
   "cell_type": "code",
   "execution_count": 11,
   "metadata": {},
   "outputs": [
    {
     "name": "stdout",
     "output_type": "stream",
     "text": [
      "文件已存在\n"
     ]
    }
   ],
   "source": [
    "import os,shutil\n",
    "#os.mkdir('D:\\\\t1')\n",
    "try:\n",
    "    shutil.move('D:\\\\test\\\\DSC06005.jpg','d:\\\\t1')\n",
    "except:\n",
    "    print('文件已存在')"
   ]
  },
  {
   "cell_type": "code",
   "execution_count": 16,
   "metadata": {},
   "outputs": [
    {
     "ename": "NameError",
     "evalue": "name 'tkinter' is not defined",
     "output_type": "error",
     "traceback": [
      "\u001b[1;31m---------------------------------------------------------------------------\u001b[0m",
      "\u001b[1;31mNameError\u001b[0m                                 Traceback (most recent call last)",
      "\u001b[1;32m<ipython-input-16-e032cb86afdb>\u001b[0m in \u001b[0;36m<module>\u001b[1;34m()\u001b[0m\n\u001b[1;32m----> 1\u001b[1;33m \u001b[0mhelp\u001b[0m\u001b[1;33m(\u001b[0m\u001b[0mtkinter\u001b[0m\u001b[1;33m)\u001b[0m\u001b[1;33m\u001b[0m\u001b[0m\n\u001b[0m",
      "\u001b[1;31mNameError\u001b[0m: name 'tkinter' is not defined"
     ]
    }
   ],
   "source": [
    "import tkinter\n",
    "\n",
    "class App():\n",
    "    __init__"
   ]
  }
 ],
 "metadata": {
  "celltoolbar": "Raw Cell Format",
  "kernelspec": {
   "display_name": "Python 3",
   "language": "python",
   "name": "python3"
  },
  "language_info": {
   "codemirror_mode": {
    "name": "ipython",
    "version": 3
   },
   "file_extension": ".py",
   "mimetype": "text/x-python",
   "name": "python",
   "nbconvert_exporter": "python",
   "pygments_lexer": "ipython3",
   "version": "3.6.0"
  }
 },
 "nbformat": 4,
 "nbformat_minor": 2
}
