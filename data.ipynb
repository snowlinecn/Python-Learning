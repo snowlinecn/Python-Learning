{
 "cells": [
  {
   "cell_type": "code",
   "execution_count": null,
   "metadata": {},
   "outputs": [],
   "source": [
    "import pandas as pd\n",
    "import numpy as np\n",
    "s = pd.Series([1,3,6,np.nan,44,1])\n",
    "print(s)"
   ]
  },
  {
   "cell_type": "code",
   "execution_count": null,
   "metadata": {},
   "outputs": [],
   "source": [
    "dates = pd.date_range('20200101',periods=8)\n",
    "df = pd.DataFrame(np.random.randn(8,4),index=dates,columns=['a','b','c','d'])\n",
    "print(df)"
   ]
  },
  {
   "cell_type": "code",
   "execution_count": null,
   "metadata": {},
   "outputs": [],
   "source": [
    "m = 10\n",
    "def func(a=10):\n",
    "    global m\n",
    "    m = 100\n",
    "    print(m)\n",
    "    def inner():\n",
    "        nonlocal a\n",
    "        a = 40\n",
    "        print(a+m)\n",
    "    inner()\n",
    "    print(a)\n",
    "    return inner\n",
    "x = func()\n",
    "print(m)"
   ]
  },
  {
   "cell_type": "code",
   "execution_count": null,
   "metadata": {},
   "outputs": [],
   "source": [
    "#闭包函数的实例\n",
    "# outer是外部函数 a和b都是外函数的临时变量\n",
    "def outer(a):\n",
    "    b = 10\n",
    "    # inner是内函数\n",
    "    def inner():\n",
    "        #在内函数中 用到了外函数的临时变量\n",
    "        print(a+b)\n",
    "    # 外函数的返回值是内函数的引用\n",
    "    return inner\n",
    "\n",
    "if __name__ == '__main__':\n",
    "    # 在这里我们调用外函数传入参数5\n",
    "    #此时外函数两个临时变量 a是5 b是10 ，并创建了内函数，然后把内函数的引用返回存给了demo\n",
    "    # 外函数结束的时候发现内部函数将会用到自己的临时变量，这两个临时变量就不会释放，会绑定给这个内部函数\n",
    "    \n",
    "    x1 = outer(5)\n",
    "    x2 = outer(8)\n",
    "    x3 = outer(10)\n",
    "     \n",
    "    x2()\n",
    "    x3()\n",
    "    x1()"
   ]
  },
  {
   "cell_type": "code",
   "execution_count": 2,
   "metadata": {},
   "outputs": [
    {
     "name": "stdout",
     "output_type": "stream",
     "text": [
      "7\n"
     ]
    }
   ],
   "source": [
    "sum = lambda a, b: a + b\n",
    "print(sum(3, 4))"
   ]
  },
  {
   "cell_type": "code",
   "execution_count": 10,
   "metadata": {},
   "outputs": [],
   "source": [
    "%run p5.py"
   ]
  },
  {
   "cell_type": "code",
   "execution_count": null,
   "metadata": {},
   "outputs": [],
   "source": []
  }
 ],
 "metadata": {
  "kernelspec": {
   "display_name": "Python 3",
   "language": "python",
   "name": "python3"
  },
  "language_info": {
   "codemirror_mode": {
    "name": "ipython",
    "version": 3
   },
   "file_extension": ".py",
   "mimetype": "text/x-python",
   "name": "python",
   "nbconvert_exporter": "python",
   "pygments_lexer": "ipython3",
   "version": "3.7.4"
  }
 },
 "nbformat": 4,
 "nbformat_minor": 4
}
